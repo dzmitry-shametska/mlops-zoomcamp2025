{
 "cells": [
  {
   "cell_type": "code",
   "execution_count": null,
   "id": "035341b3",
   "metadata": {},
   "outputs": [],
   "source": [
    "# Q1. Install MLflow\n",
    "# What's the version that you have?\n",
    "# A: mlflow, version 2.22.0\n",
    "\n",
    "\n",
    "# Q2. Download and preprocess the data\n",
    "# How many files were saved to OUTPUT_FOLDER?\n",
    "#A: 4\n",
    "\n",
    "\n",
    "# Q3. Train a model with autolog\n",
    "# What is the value of the min_samples_split parameter:\n",
    "# A: 2\n",
    "\n",
    "# Q4. Launch the tracking server locally\n",
    "# In addition to backend-store-uri, what else do you need to pass to properly configure the server?\n",
    "# A: default-artifact-root\n",
    "\n",
    "\n",
    "# Q5. Tune model hyperparameters\n",
    "# What's the best validation RMSE that you got?\n",
    "# A: 5.335\n",
    "\n",
    "\n",
    "# Q6. Promote the best model to the model registry\n",
    "# What is the test RMSE of the best model?\n",
    "# 5.567\n"
   ]
  },
  {
   "cell_type": "code",
   "execution_count": null,
   "id": "dfc705d4",
   "metadata": {},
   "outputs": [],
   "source": [
    "# conda create -n exp-tracking-env python=3.9\n",
    "\n",
    "# conda activate exp-tracking-env\n",
    "\n",
    "#  conda deactivate\n",
    "\n",
    "#  mlflow server --backend-store-uri sqlite:///mlflow.db --default-artifact-root /workspaces/mlops-zoomcamp2025/homeworks/hw2/artifacts"
   ]
  },
  {
   "cell_type": "code",
   "execution_count": null,
   "id": "3819afe8",
   "metadata": {},
   "outputs": [],
   "source": [
    "python preprocess_data.py --raw_data_path /workspaces/mlops-zoomcamp2025/homeworks/hw2/data --dest_path ./output"
   ]
  },
  {
   "cell_type": "code",
   "execution_count": null,
   "id": "b9802bd9",
   "metadata": {},
   "outputs": [],
   "source": [
    "import os\n",
    "import pickle\n",
    "import click\n",
    "import mlflow\n",
    "\n",
    "from sklearn.ensemble import RandomForestRegressor\n",
    "from sklearn.metrics import mean_squared_error, root_mean_squared_error\n",
    "\n",
    "\n",
    "def load_pickle(filename: str):\n",
    "    with open(filename, \"rb\") as f_in:\n",
    "        return pickle.load(f_in)\n",
    "\n",
    "\n",
    "@click.command()\n",
    "@click.option(\n",
    "    \"--data_path\",\n",
    "    default=\"./output\",\n",
    "    help=\"Location where the processed NYC taxi trip data was saved\"\n",
    ")\n",
    "def run_train(data_path: str):\n",
    "    mlflow.sklearn.autolog()\n",
    "\n",
    "    with mlflow.start_run():\n",
    "        X_train, y_train = load_pickle(os.path.join(data_path, \"train.pkl\"))\n",
    "        X_val, y_val = load_pickle(os.path.join(data_path, \"val.pkl\"))\n",
    "\n",
    "        rf = RandomForestRegressor(max_depth=10, random_state=0)\n",
    "        rf.fit(X_train, y_train)\n",
    "        y_pred = rf.predict(X_val)\n",
    "\n",
    "        rmse =  root_mean_squared_error(y_val, y_pred)\n",
    "        # mean_squared_error(y_val, y_pred,squared=False)\n",
    "        mlflow.log_metric(\"rmse\", rmse)\n",
    "    \n",
    "    \n",
    "\n",
    "\n",
    "if __name__ == '__main__':\n",
    "    mlflow.set_tracking_uri(\"sqlite:///mlflow.db\")\n",
    "    mlflow.set_experiment(\"hw2-experiment\")   \n",
    "\n",
    "    run_train()\n"
   ]
  }
 ],
 "metadata": {
  "language_info": {
   "name": "python"
  }
 },
 "nbformat": 4,
 "nbformat_minor": 5
}
