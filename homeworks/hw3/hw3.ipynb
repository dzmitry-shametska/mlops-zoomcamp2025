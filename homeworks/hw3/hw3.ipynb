{
 "cells": [
  {
   "cell_type": "code",
   "execution_count": null,
   "id": "9ad24c05",
   "metadata": {},
   "outputs": [],
   "source": [
    "# Question 1. Select the Tool\n",
    "# What's the name of the orchestrator you chose?\n",
    "# A: Prefect\n",
    "\n",
    "# Question 2. Version\n",
    "# What's the version of the orchestrator?\n",
    "# A: 3.4.4\n",
    "\n",
    "# Question 3. Creating a pipeline\n",
    "# \n",
    "# A: 3403766\n",
    "\n",
    "\n",
    "# Question 4. Creating a pipeline\n",
    "# \n",
    "# A: 3316216\n",
    "\n",
    "\n",
    "# Question 5. Train a model\n",
    "# \n",
    "# What's the intercept of the model?\n",
    "# A: 24.772\n",
    "\n",
    "# Question 6. Register the model\n",
    "# \n",
    "# Find the logged model, and find MLModel file. What's the size of the model? (model_size_bytes field):\n",
    "# A:  4,534"
   ]
  }
 ],
 "metadata": {
  "kernelspec": {
   "display_name": ".venv",
   "language": "python",
   "name": "python3"
  },
  "language_info": {
   "name": "python",
   "version": "3.10.0"
  }
 },
 "nbformat": 4,
 "nbformat_minor": 5
}
